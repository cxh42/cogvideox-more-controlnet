{
 "cells": [
  {
   "cell_type": "code",
   "execution_count": null,
   "metadata": {},
   "outputs": [
    {
     "name": "stderr",
     "output_type": "stream",
     "text": [
      "c:\\programs\\Anaconda\\envs\\cogvideox-controlnet\\lib\\site-packages\\tqdm\\auto.py:21: TqdmWarning: IProgress not found. Please update jupyter and ipywidgets. See https://ipywidgets.readthedocs.io/en/stable/user_install.html\n",
      "  from .autonotebook import tqdm as notebook_tqdm\n"
     ]
    },
    {
     "name": "stdout",
     "output_type": "stream",
     "text": [
      "正在加载基础模型...\n"
     ]
    },
    {
     "name": "stderr",
     "output_type": "stream",
     "text": [
      "Downloading shards: 100%|██████████| 2/2 [00:00<?, ?it/s]\n",
      "Loading checkpoint shards: 100%|██████████| 2/2 [00:11<00:00,  5.61s/it]\n"
     ]
    },
    {
     "name": "stdout",
     "output_type": "stream",
     "text": [
      "正在加载ControlNet模型...\n",
      "ControlNet检查点已加载: cogvideox-depth-controlnet/checkpoint-1000.pt\n",
      "正在创建推理管道...\n",
      "正在加载深度图视频: D:\\Programs\\cogvideox-more-controlnet\\data\\depth\\depth (1).mp4\n",
      "已加载 49 帧\n",
      "开始推理过程...\n"
     ]
    },
    {
     "name": "stderr",
     "output_type": "stream",
     "text": [
      "  0%|          | 0/50 [00:00<?, ?it/s]"
     ]
    }
   ],
   "source": [
    "# 导入必要的库\n",
    "import os\n",
    "import torch\n",
    "import numpy as np\n",
    "from PIL import Image\n",
    "from transformers import T5EncoderModel, T5Tokenizer\n",
    "from diffusers import CogVideoXDDIMScheduler, CogVideoXDPMScheduler, AutoencoderKLCogVideoX\n",
    "from diffusers.utils import load_video, export_to_video\n",
    "\n",
    "# 导入自定义模块 - 确保这些模块能够被正确导入\n",
    "import sys\n",
    "sys.path.append('..')  # 如果需要导入上级目录的模块\n",
    "from controlnet_pipeline import ControlnetCogVideoXPipeline\n",
    "from cogvideo_transformer import CustomCogVideoXTransformer3DModel\n",
    "from cogvideo_controlnet import CogVideoXControlnet\n",
    "\n",
    "# 设置推理参数\n",
    "depth_video_path = \"data/depth/depth (1).mp4\"  # 注意Windows路径使用raw字符串\n",
    "checkpoint_path = \"cogvideox-depth-controlnet/checkpoint-1000.pt\"  # 检查点路径\n",
    "output_path = \"generated_depth_video.mp4\"  # 输出视频路径\n",
    "base_model_path = \"THUDM/CogVideoX-2b\"  # 基础模型路径\n",
    "\n",
    "# 设置描述文本\n",
    "prompt = \"\"\"The video shows a street with cars parked on the side. The camera pans to the right, \n",
    "revealing more of the street and the surrounding area. The scene is overcast and foggy, \n",
    "creating a somewhat gloomy atmosphere. The camera movement is smooth and steady, \n",
    "allowing for a clear view of the surroundings.\"\"\"\n",
    "\n",
    "# 加载基础模型\n",
    "print(\"正在加载基础模型...\")\n",
    "tokenizer = T5Tokenizer.from_pretrained(base_model_path, subfolder=\"tokenizer\")\n",
    "text_encoder = T5EncoderModel.from_pretrained(base_model_path, subfolder=\"text_encoder\")\n",
    "transformer = CustomCogVideoXTransformer3DModel.from_pretrained(base_model_path, subfolder=\"transformer\")\n",
    "vae = AutoencoderKLCogVideoX.from_pretrained(base_model_path, subfolder=\"vae\")\n",
    "scheduler = CogVideoXDDIMScheduler.from_pretrained(base_model_path, subfolder=\"scheduler\")\n",
    "\n",
    "# 加载训练好的ControlNet模型\n",
    "print(\"正在加载ControlNet模型...\")\n",
    "controlnet = CogVideoXControlnet(\n",
    "    num_layers=8,  # 确保与训练时相同的参数\n",
    "    downscale_coef=8,\n",
    "    in_channels=3,\n",
    "    num_attention_heads=30,  # CogVideoX-2b模型使用30个注意力头\n",
    "    attention_head_dim=64,\n",
    "    vae_channels=16,\n",
    ")\n",
    "\n",
    "# 加载检查点\n",
    "ckpt = torch.load(checkpoint_path, map_location='cpu')\n",
    "controlnet.load_state_dict(ckpt['state_dict'])\n",
    "print(f\"ControlNet检查点已加载: {checkpoint_path}\")\n",
    "\n",
    "# 创建推理管道\n",
    "print(\"正在创建推理管道...\")\n",
    "pipe = ControlnetCogVideoXPipeline(\n",
    "    tokenizer=tokenizer,\n",
    "    text_encoder=text_encoder,\n",
    "    transformer=transformer,\n",
    "    vae=vae,\n",
    "    controlnet=controlnet,\n",
    "    scheduler=scheduler,\n",
    ")\n",
    "\n",
    "# 设置为半精度以减少GPU内存使用\n",
    "pipe = pipe.to(dtype=torch.float16, device='cuda')\n",
    "\n",
    "# 启用CPU卸载以进一步减少GPU内存使用（如果需要）\n",
    "# pipe.enable_model_cpu_offload()\n",
    "\n",
    "# 可以启用VAE的分片和平铺以减少内存占用\n",
    "pipe.vae.enable_slicing()\n",
    "pipe.vae.enable_tiling()\n",
    "\n",
    "# 加载深度图视频\n",
    "print(f\"正在加载深度图视频: {depth_video_path}\")\n",
    "num_frames = 49  # CogVideoX模型最多支持49帧\n",
    "depth_frames = load_video(depth_video_path)[:num_frames]\n",
    "print(f\"已加载 {len(depth_frames)} 帧\")\n",
    "\n",
    "# 如果帧数不足，可以进行复制\n",
    "if len(depth_frames) < num_frames:\n",
    "    print(f\"警告：帧数不足 {num_frames}，将进行重复填充\")\n",
    "    # 复制现有帧直到达到所需数量\n",
    "    while len(depth_frames) < num_frames:\n",
    "        depth_frames.append(depth_frames[len(depth_frames) % len(depth_frames)])\n",
    "\n",
    "# 执行推理\n",
    "print(\"开始推理过程...\")\n",
    "with torch.no_grad():  # 禁用梯度计算以节省内存\n",
    "    output = pipe(\n",
    "        controlnet_frames=depth_frames,\n",
    "        prompt=prompt,\n",
    "        height=480,\n",
    "        width=720,\n",
    "        num_frames=num_frames,\n",
    "        guidance_scale=6.0,\n",
    "        num_inference_steps=50,\n",
    "        generator=torch.Generator(device=\"cuda\").manual_seed(42),\n",
    "        controlnet_weights=1.0,\n",
    "        controlnet_guidance_start=0.0,\n",
    "        controlnet_guidance_end=0.8,\n",
    "    )\n",
    "\n",
    "# 保存生成的视频\n",
    "print(f\"正在保存输出视频至: {output_path}\")\n",
    "export_to_video(output.frames[0], output_path, fps=8)\n",
    "print(\"推理完成！\")\n",
    "\n",
    "# 显示第一帧图像用于预览\n",
    "from IPython.display import Image as IPImage\n",
    "from IPython.display import display\n",
    "import tempfile\n",
    "\n",
    "# 保存第一帧用于显示\n",
    "first_frame = output.frames[0][0]\n",
    "temp_image_path = \"first_frame_preview.jpg\"\n",
    "first_frame.save(temp_image_path)\n",
    "\n",
    "# 在Notebook中显示\n",
    "print(\"生成视频的第一帧预览:\")\n",
    "display(IPImage(temp_image_path))\n",
    "print(f\"完整视频已保存至: {output_path}\")"
   ]
  }
 ],
 "metadata": {
  "kernelspec": {
   "display_name": "cogvideox-controlnet",
   "language": "python",
   "name": "python3"
  },
  "language_info": {
   "codemirror_mode": {
    "name": "ipython",
    "version": 3
   },
   "file_extension": ".py",
   "mimetype": "text/x-python",
   "name": "python",
   "nbconvert_exporter": "python",
   "pygments_lexer": "ipython3",
   "version": "3.10.16"
  }
 },
 "nbformat": 4,
 "nbformat_minor": 2
}
