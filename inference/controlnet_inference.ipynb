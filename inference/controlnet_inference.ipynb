{
 "cells": [
  {
   "cell_type": "code",
   "execution_count": null,
   "id": "7e352322-cba3-47c6-a3ba-ad8826e8ea5b",
   "metadata": {},
   "outputs": [],
   "source": [
    "import os\n",
    "os.environ['CUDA_VISIBLE_DEVICES'] = '0'\n",
    "import sys\n",
    "sys.path.append('..')\n",
    "\n",
    "import cv2\n",
    "import torch\n",
    "import numpy as np\n",
    "from PIL import Image\n",
    "from transformers import T5EncoderModel, T5Tokenizer\n",
    "from diffusers import CogVideoXDDIMScheduler, CogVideoXDPMScheduler, AutoencoderKLCogVideoX\n",
    "from diffusers.utils import load_video, export_to_video\n",
    "from denku import show_images, add_mask_on_image\n",
    "from controlnet_aux import CannyDetector, HEDdetector\n",
    "\n",
    "from controlnet_pipeline import ControlnetCogVideoXPipeline\n",
    "from cogvideo_transformer import CustomCogVideoXTransformer3DModel\n",
    "from cogvideo_controlnet import CogVideoXControlnet\n",
    "\n",
    "%load_ext autoreload\n",
    "%autoreload 2"
   ]
  },
  {
   "cell_type": "code",
   "execution_count": null,
   "id": "30a2f673-2e3a-42e2-8f83-55641134c06e",
   "metadata": {},
   "outputs": [],
   "source": [
    "pretrained_model_name_or_path = \"THUDM/CogVideoX-2b\"\n",
    "\n",
    "tokenizer = T5Tokenizer.from_pretrained(\n",
    "    pretrained_model_name_or_path, subfolder=\"tokenizer\"\n",
    ")\n",
    "\n",
    "text_encoder = T5EncoderModel.from_pretrained(\n",
    "    pretrained_model_name_or_path, subfolder=\"text_encoder\"\n",
    ")\n",
    "\n",
    "transformer = CustomCogVideoXTransformer3DModel.from_pretrained(\n",
    "    pretrained_model_name_or_path, subfolder=\"transformer\"\n",
    ")\n",
    "\n",
    "vae = AutoencoderKLCogVideoX.from_pretrained(\n",
    "    pretrained_model_name_or_path, subfolder=\"vae\"\n",
    ")\n",
    "\n",
    "scheduler = CogVideoXDDIMScheduler.from_pretrained(\n",
    "    pretrained_model_name_or_path, subfolder=\"scheduler\"\n",
    ")"
   ]
  },
  {
   "cell_type": "code",
   "execution_count": null,
   "id": "40d3dcd6",
   "metadata": {},
   "outputs": [],
   "source": [
    "controlnet = CogVideoXControlnet.from_pretrained('TheDenk/cogvideox-2b-controlnet-canny-v1')"
   ]
  },
  {
   "cell_type": "code",
   "execution_count": null,
   "id": "4bcdeac9-5a8a-4c0c-8063-2229483be0bd",
   "metadata": {},
   "outputs": [],
   "source": [
    "pipe = ControlnetCogVideoXPipeline(\n",
    "    tokenizer=tokenizer,\n",
    "    text_encoder=text_encoder,\n",
    "    transformer=transformer,\n",
    "    vae=vae,\n",
    "    controlnet=controlnet,\n",
    "    scheduler=scheduler,\n",
    ")\n",
    "pipe = pipe.to(dtype=torch.float16, device='cuda')\n",
    "\n",
    "pipe.enable_model_cpu_offload()\n",
    "pipe.enable_sequential_cpu_offload()"
   ]
  },
  {
   "cell_type": "code",
   "execution_count": null,
   "id": "2a76a75a-48d3-4ab9-bfed-136071144659",
   "metadata": {},
   "outputs": [],
   "source": [
    "controlnet_processor = CannyDetector()"
   ]
  },
  {
   "cell_type": "code",
   "execution_count": null,
   "id": "d8faa25a-d8f9-4b41-925b-97d6e0264037",
   "metadata": {},
   "outputs": [],
   "source": [
    "num_frames = 49\n",
    "video_path = '../resources/car.mp4'\n",
    "video_frames = load_video(video_path)[:num_frames]\n",
    "controlnet_frames = [controlnet_processor(x) for x in video_frames]\n",
    "\n",
    "show_images(video_frames[::10], figsize=(16, 8))\n",
    "show_images(controlnet_frames[::10], figsize=(16, 8))"
   ]
  },
  {
   "cell_type": "code",
   "execution_count": null,
   "id": "c36d5c54-e04e-4d04-8e0a-bd52987d8d38",
   "metadata": {
    "scrolled": true
   },
   "outputs": [],
   "source": [
    "output = pipe(\n",
    "    controlnet_frames=controlnet_frames,\n",
    "    prompt='red car is moving on the ocean waves, beautiful waves',\n",
    "    height=480,\n",
    "    width=720,\n",
    "    num_frames=49,\n",
    "    guidance_scale=6,\n",
    "    num_inference_steps=50,\n",
    "    generator=torch.Generator(device=\"cuda\").manual_seed(42),\n",
    "    controlnet_weights=0.8,\n",
    "    controlnet_guidance_start=0.0,\n",
    "    controlnet_guidance_end=0.8,\n",
    ")"
   ]
  },
  {
   "cell_type": "code",
   "execution_count": null,
   "id": "081bec81-7eb0-43df-b272-17e32239add7",
   "metadata": {},
   "outputs": [],
   "source": [
    "show_images(output.frames[0][::10], figsize=(10, 10))"
   ]
  },
  {
   "cell_type": "code",
   "execution_count": null,
   "id": "01116dec-92d6-4f2d-84f0-478f704d84ad",
   "metadata": {},
   "outputs": [],
   "source": [
    "export_to_video(output.frames[0], 'out.mp4', fps=16)"
   ]
  },
  {
   "cell_type": "code",
   "execution_count": null,
   "id": "3f6ac24a-d39c-4271-9b76-5e406d70be8e",
   "metadata": {},
   "outputs": [],
   "source": [
    "np_predict = [np.array(x) for x in output.frames[0]]\n",
    "\n",
    "masked_images = [\n",
    "    add_mask_on_image(\n",
    "        np.array(image), \n",
    "        np.array(mask.resize((720, 480))), \n",
    "        color=(255, 0, 0)\n",
    "    ) \n",
    "    for image, mask in zip(np_predict, controlnet_frames)\n",
    "]\n",
    "show_images(masked_images[:2], figsize=(10, 10))"
   ]
  },
  {
   "cell_type": "code",
   "execution_count": null,
   "id": "ae4311cb-6016-4853-aa6a-c0f6a0456591",
   "metadata": {},
   "outputs": [],
   "source": [
    "export_to_video([Image.fromarray(x) for x in masked_images], 'masked_out.mp4', fps=16)"
   ]
  },
  {
   "cell_type": "code",
   "execution_count": null,
   "id": "59577f5e-c83e-43c2-823a-a8ee7446464f",
   "metadata": {},
   "outputs": [],
   "source": []
  }
 ],
 "metadata": {
  "kernelspec": {
   "display_name": "Python 3 (ipykernel)",
   "language": "python",
   "name": "python3"
  },
  "language_info": {
   "codemirror_mode": {
    "name": "ipython",
    "version": 3
   },
   "file_extension": ".py",
   "mimetype": "text/x-python",
   "name": "python",
   "nbconvert_exporter": "python",
   "pygments_lexer": "ipython3",
   "version": "3.10.12"
  }
 },
 "nbformat": 4,
 "nbformat_minor": 5
}
