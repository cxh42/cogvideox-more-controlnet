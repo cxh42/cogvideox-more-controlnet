{
 "cells": [
  {
   "cell_type": "code",
   "execution_count": null,
   "id": "d4c5799b-840f-4155-8d40-8f1f4c421fcd",
   "metadata": {},
   "outputs": [],
   "source": [
    "import os\n",
    "os.environ['CUDA_VISIBLE_DEVICES'] = '0'\n",
    "import sys\n",
    "sys.path.append('..')\n",
    "\n",
    "import cv2\n",
    "import torch\n",
    "import numpy as np\n",
    "from PIL import Image\n",
    "from transformers import T5EncoderModel, T5Tokenizer\n",
    "from diffusers import CogVideoXDDIMScheduler, CogVideoXDPMScheduler, AutoencoderKLCogVideoX\n",
    "from diffusers.utils import load_video, export_to_video\n",
    "from denku import show_images, add_mask_on_image\n",
    "from controlnet_aux import CannyDetector, HEDdetector\n",
    "\n",
    "from controlnet_img2vid_pipeline import CogVideoXImageToVideoControlnetPipeline\n",
    "from cogvideo_transformer import CustomCogVideoXTransformer3DModel\n",
    "from cogvideo_controlnet import CogVideoXControlnet\n",
    "\n",
    "%load_ext autoreload\n",
    "%autoreload 2"
   ]
  },
  {
   "cell_type": "code",
   "execution_count": null,
   "id": "f5fb80ed-e38f-47d3-b23e-61e41961579d",
   "metadata": {},
   "outputs": [],
   "source": [
    "def read_video(video_path, start_index=0, frames_count=49, stride=1):\n",
    "    video_reader = VideoReader(video_path)\n",
    "    end_index = min(start_index + frames_count * stride, len(video_reader)) - 1\n",
    "    batch_index = np.linspace(start_index, end_index, frames_count, dtype=int)\n",
    "    numpy_video = video_reader.get_batch(batch_index).asnumpy()\n",
    "    return numpy_video"
   ]
  },
  {
   "cell_type": "code",
   "execution_count": null,
   "id": "e5e1d166-4790-4744-8768-b75f5c9c10c3",
   "metadata": {},
   "outputs": [],
   "source": [
    "pretrained_model_name_or_path = \"THUDM/CogVideoX-5b-I2V\"\n",
    "\n",
    "tokenizer = T5Tokenizer.from_pretrained(\n",
    "    pretrained_model_name_or_path, subfolder=\"tokenizer\"\n",
    ")\n",
    "\n",
    "text_encoder = T5EncoderModel.from_pretrained(\n",
    "    pretrained_model_name_or_path, subfolder=\"text_encoder\"\n",
    ")\n",
    "\n",
    "transformer = CustomCogVideoXTransformer3DModel.from_pretrained(\n",
    "    pretrained_model_name_or_path, subfolder=\"transformer\"\n",
    ")\n",
    "\n",
    "vae = AutoencoderKLCogVideoX.from_pretrained(\n",
    "    pretrained_model_name_or_path, subfolder=\"vae\"\n",
    ")\n",
    "\n",
    "scheduler = CogVideoXDDIMScheduler.from_pretrained(\n",
    "    pretrained_model_name_or_path, subfolder=\"scheduler\"\n",
    ")"
   ]
  },
  {
   "cell_type": "code",
   "execution_count": null,
   "id": "093ba6f9-d4d7-49c4-8171-9b2a11bf1737",
   "metadata": {},
   "outputs": [],
   "source": [
    "controlnet = CogVideoXControlnet.from_pretrained('TheDenk/cogvideox-5b-controlnet-hed-v1')"
   ]
  },
  {
   "cell_type": "code",
   "execution_count": null,
   "id": "517fe01b-298c-4f6d-afce-217c6f542e74",
   "metadata": {},
   "outputs": [],
   "source": [
    "pipe = CogVideoXImageToVideoControlnetPipeline(\n",
    "    tokenizer=tokenizer,\n",
    "    text_encoder=text_encoder,\n",
    "    transformer=transformer,\n",
    "    vae=vae,\n",
    "    controlnet=controlnet,\n",
    "    scheduler=scheduler,\n",
    ")\n",
    "pipe = pipe.to(dtype=torch.float16, device='cuda')\n",
    "\n",
    "# pipe.enable_model_cpu_offload()\n",
    "# pipe.enable_sequential_cpu_offload()"
   ]
  },
  {
   "cell_type": "code",
   "execution_count": null,
   "id": "e63a19b1-62a7-4b77-a5b5-f8de1c96c982",
   "metadata": {},
   "outputs": [],
   "source": [
    "# controlnet_processor = CannyDetector()\n",
    "controlnet_processor = HEDdetector.from_pretrained(\"lllyasviel/Annotators\")"
   ]
  },
  {
   "cell_type": "code",
   "execution_count": null,
   "id": "d64532bd-4c94-46ae-9823-6eaf35f27e19",
   "metadata": {},
   "outputs": [],
   "source": [
    "num_frames = 49\n",
    "video_path = '../resources/ship.mp4'\n",
    "video_frames = load_video(video_path)[:num_frames]\n",
    "controlnet_frames = [controlnet_processor(x) for x in video_frames][::-1]\n",
    "\n",
    "show_images(video_frames[::10], figsize=(16, 8))\n",
    "show_images(controlnet_frames[::10], figsize=(16, 8))"
   ]
  },
  {
   "cell_type": "code",
   "execution_count": null,
   "id": "20d8e093-0451-4dbe-a869-34945ebc4f47",
   "metadata": {},
   "outputs": [],
   "source": [
    "output = pipe(\n",
    "    image=video_frames[-1],\n",
    "    controlnet_frames=controlnet_frames,\n",
    "    prompt=\"A detailed wooden toy ship with intricately carved masts and sails is seen gliding smoothly over a plush, blue carpet that mimics the waves of the sea. The ship's hull is painted a rich brown, with tiny windows. The carpet, soft and textured, provides a perfect backdrop, resembling an oceanic expanse. Surrounding the ship are various other toys and children's items, hinting at a playful environment. The scene captures the innocence and imagination of childhood, with the toy ship's journey symbolizing endless adventures in a whimsical, indoor setting.\",\n",
    "    height=480,\n",
    "    width=720,\n",
    "    num_frames=49,\n",
    "    guidance_scale=6,\n",
    "    num_inference_steps=50,\n",
    "    generator=torch.Generator(device=\"cuda\").manual_seed(42),\n",
    "    controlnet_weights=0.8,\n",
    "    controlnet_guidance_start=0.0,\n",
    "    controlnet_guidance_end=0.8,\n",
    ")"
   ]
  },
  {
   "cell_type": "code",
   "execution_count": null,
   "id": "f6d88e1a-d1d5-4551-9135-05a539c115d3",
   "metadata": {},
   "outputs": [],
   "source": [
    "show_images(output.frames[0][::10], figsize=(10, 10))"
   ]
  },
  {
   "cell_type": "code",
   "execution_count": null,
   "id": "a1660b2c-98c6-4ae7-9756-b39385475340",
   "metadata": {},
   "outputs": [],
   "source": [
    "export_to_video(output.frames[0], 'contolnet_out.mp4', fps=8)"
   ]
  },
  {
   "cell_type": "code",
   "execution_count": null,
   "id": "a9748472-54c4-4cb1-a263-0de51f1f11f7",
   "metadata": {},
   "outputs": [],
   "source": []
  },
  {
   "cell_type": "code",
   "execution_count": null,
   "id": "d65d918d-93f1-43dd-a5d6-f30beb40b06c",
   "metadata": {},
   "outputs": [],
   "source": []
  }
 ],
 "metadata": {
  "kernelspec": {
   "display_name": "Python 3 (ipykernel)",
   "language": "python",
   "name": "python3"
  },
  "language_info": {
   "codemirror_mode": {
    "name": "ipython",
    "version": 3
   },
   "file_extension": ".py",
   "mimetype": "text/x-python",
   "name": "python",
   "nbconvert_exporter": "python",
   "pygments_lexer": "ipython3",
   "version": "3.10.12"
  }
 },
 "nbformat": 4,
 "nbformat_minor": 5
}
